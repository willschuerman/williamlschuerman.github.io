{
 "cells": [
  {
   "cell_type": "markdown",
   "source": [
    "# Publications markdown generator for academicpages\n",
    "\n",
    "Takes a TSV of publications with metadata and converts them for use with [academicpages.github.io](academicpages.github.io). This is an interactive Jupyter notebook ([see more info here](http://jupyter-notebook-beginner-guide.readthedocs.io/en/latest/what_is_jupyter.html)). The core python code is also in `publications.py`. Run either from the `markdown_generator` folder after replacing `publications.tsv` with one containing your data.\n",
    "\n",
    "TODO: Make this work with BibTex and other databases of citations, rather than Stuart's non-standard TSV format and citation style.\n"
   ],
   "metadata": {
    "deletable": true,
    "editable": true
   }
  },
  {
   "cell_type": "markdown",
   "source": [],
   "metadata": {}
  },
  {
   "cell_type": "markdown",
   "source": [
    "## Data format\n",
    "\n",
    "The TSV needs to have the following columns: pub_date, title, venue, excerpt, citation, site_url, and paper_url, with a header at the top. \n",
    "\n",
    "- `excerpt` and `paper_url` can be blank, but the others must have values. \n",
    "- `pub_date` must be formatted as YYYY-MM-DD.\n",
    "- `url_slug` will be the descriptive part of the .md file and the permalink URL for the page about the paper. The .md file will be `YYYY-MM-DD-[url_slug].md` and the permalink will be `https://[yourdomain]/publications/YYYY-MM-DD-[url_slug]`\n",
    "\n",
    "This is how the raw file looks (it doesn't look pretty, use a spreadsheet or other program to edit and create)."
   ],
   "metadata": {}
  },
  {
   "cell_type": "code",
   "execution_count": 39,
   "source": [
    "!cat publications.tsv"
   ],
   "outputs": [
    {
     "output_type": "stream",
     "name": "stdout",
     "text": [
      "\n",
      "\n",
      "\n",
      "\n",
      "\n",
      "\n",
      "\n",
      "\n",
      "\n",
      "2015-07-02\tDo we perceive others better than ourselves? A perceptual benefit for noise-vocoded speech produced by an average speaker.\tPLoS One\tTags: speech perception, phonetics, psycholinguistics\t\"Schuerman, W., Meyer, A. S., & McQueen, J. M. (2015). \"\"Do we perceive others better than ourselves? A perceptual benefit for noise-vocoded speech produced by an average speaker.\"\" <i>PLoS One</i>, 10(7): e0129731\"\tpaper-title-number-9\t10.1371/journal.pone.0129731"
     ]
    }
   ],
   "metadata": {
    "collapsed": false
   }
  },
  {
   "cell_type": "markdown",
   "source": [
    "## Import pandas\n",
    "\n",
    "We are using the very handy pandas library for dataframes."
   ],
   "metadata": {}
  },
  {
   "cell_type": "code",
   "execution_count": 40,
   "source": [
    "import pandas as pd"
   ],
   "outputs": [],
   "metadata": {
    "collapsed": true,
    "deletable": true,
    "editable": true
   }
  },
  {
   "cell_type": "markdown",
   "source": [
    "## Import TSV\n",
    "\n",
    "Pandas makes this easy with the read_csv function. We are using a TSV, so we specify the separator as a tab, or `\\t`.\n",
    "\n",
    "I found it important to put this data in a tab-separated values format, because there are a lot of commas in this kind of data and comma-separated values can get messed up. However, you can modify the import statement, as pandas also has read_excel(), read_json(), and others."
   ],
   "metadata": {}
  },
  {
   "cell_type": "code",
   "execution_count": 45,
   "source": [
    "publications = pd.read_csv(\"publications.tsv\", sep=\"\\t\", header=0)\n",
    "publications\n"
   ],
   "outputs": [
    {
     "output_type": "execute_result",
     "data": {
      "text/html": [
       "<div>\n",
       "<style scoped>\n",
       "    .dataframe tbody tr th:only-of-type {\n",
       "        vertical-align: middle;\n",
       "    }\n",
       "\n",
       "    .dataframe tbody tr th {\n",
       "        vertical-align: top;\n",
       "    }\n",
       "\n",
       "    .dataframe thead th {\n",
       "        text-align: right;\n",
       "    }\n",
       "</style>\n",
       "<table border=\"1\" class=\"dataframe\">\n",
       "  <thead>\n",
       "    <tr style=\"text-align: right;\">\n",
       "      <th></th>\n",
       "      <th>pub_date</th>\n",
       "      <th>title</th>\n",
       "      <th>venue</th>\n",
       "      <th>excerpt</th>\n",
       "      <th>citation</th>\n",
       "      <th>url_slug</th>\n",
       "      <th>paper_url</th>\n",
       "    </tr>\n",
       "  </thead>\n",
       "  <tbody>\n",
       "    <tr>\n",
       "      <th>0</th>\n",
       "      <td>2022-01-01</td>\n",
       "      <td>Human intracranial recordings reveal distinct ...</td>\n",
       "      <td>In Review</td>\n",
       "      <td>Tags: vagus nerve stimulation, neuromodulation...</td>\n",
       "      <td>Schuerman, W. L., Nourski, K. V., Rhone, A. E....</td>\n",
       "      <td>paper-title-number-1</td>\n",
       "      <td>url</td>\n",
       "    </tr>\n",
       "    <tr>\n",
       "      <th>1</th>\n",
       "      <td>2021-09-07</td>\n",
       "      <td>Learning nonnative speech sounds changes local...</td>\n",
       "      <td>Proceedings of the National Academy of Sciences</td>\n",
       "      <td>Tags: sound learning, ECoG</td>\n",
       "      <td>Han, G. Y., Chandrasekaran, B., Nourski, K.V.,...</td>\n",
       "      <td>paper-title-number-2</td>\n",
       "      <td>url</td>\n",
       "    </tr>\n",
       "    <tr>\n",
       "      <th>2</th>\n",
       "      <td>2020-09-21</td>\n",
       "      <td>Using expletive insertion to pursue and sancti...</td>\n",
       "      <td>Journal of Sociolinguistics</td>\n",
       "      <td>Tags: taboo speech, conversation analysis</td>\n",
       "      <td>Hoey, E. M., Hömke, P., Löfgren, E., Neumann, ...</td>\n",
       "      <td>paper-title-number-3</td>\n",
       "      <td>url</td>\n",
       "    </tr>\n",
       "    <tr>\n",
       "      <th>3</th>\n",
       "      <td>2020-08-06</td>\n",
       "      <td>Non-invasive peripheral nerve stimulation sele...</td>\n",
       "      <td>npj Science of Learning</td>\n",
       "      <td>Tags: sound learning, transcutaneous auricular...</td>\n",
       "      <td>Llanos, F., McHaney, J. R., Schuerman, W. L., ...</td>\n",
       "      <td>paper-title-number-4</td>\n",
       "      <td>10.1038/s41539-020-0070-0.</td>\n",
       "    </tr>\n",
       "    <tr>\n",
       "      <th>4</th>\n",
       "      <td>2019-05-20</td>\n",
       "      <td>Comparison of Common Artifact Rejection Method...</td>\n",
       "      <td>in 2019 9th International IEEE/EMBS Conference...</td>\n",
       "      <td>Tags: cortical stimulation, peripheral stimula...</td>\n",
       "      <td>Sellers, K.K., Schuerman, W.L., Dawes, H. E., ...</td>\n",
       "      <td>paper-title-number-5</td>\n",
       "      <td>10.1109/NER.2019.8716980</td>\n",
       "    </tr>\n",
       "    <tr>\n",
       "      <th>5</th>\n",
       "      <td>2017-04-17</td>\n",
       "      <td>Sensorimotor adaptation affects perceptual com...</td>\n",
       "      <td>Journal of the Acoustical Society of America</td>\n",
       "      <td>Tags: altered auditory feedback, compensation ...</td>\n",
       "      <td>Schuerman, W. L., Nagarajan, S., McQueen, J. M...</td>\n",
       "      <td>paper-title-number-6</td>\n",
       "      <td>url</td>\n",
       "    </tr>\n",
       "    <tr>\n",
       "      <th>6</th>\n",
       "      <td>2017-04-07</td>\n",
       "      <td>Mapping the Speech Code: Cortical Responses Li...</td>\n",
       "      <td>Frontiers in Human Neuroscience</td>\n",
       "      <td>Tags: altered auditory feedback, speech percep...</td>\n",
       "      <td>Schuerman, W. L., Meyer, A., &amp; McQueen, J. M. ...</td>\n",
       "      <td>paper-title-number-7</td>\n",
       "      <td>url</td>\n",
       "    </tr>\n",
       "    <tr>\n",
       "      <th>7</th>\n",
       "      <td>2016-06-01</td>\n",
       "      <td>What sound symbolism can and cannot do: testin...</td>\n",
       "      <td>Language</td>\n",
       "      <td>Tags: phonetics, sound symbolism, psycholingui...</td>\n",
       "      <td>Dingemanse, M., Schuerman, W., Reinisch, E., T...</td>\n",
       "      <td>paper-title-number-8</td>\n",
       "      <td>url</td>\n",
       "    </tr>\n",
       "    <tr>\n",
       "      <th>8</th>\n",
       "      <td>2015-07-02</td>\n",
       "      <td>Do we perceive others better than ourselves? A...</td>\n",
       "      <td>PLoS One</td>\n",
       "      <td>Tags: speech perception, phonetics, psycholing...</td>\n",
       "      <td>Schuerman, W., Meyer, A. S., &amp; McQueen, J. M. ...</td>\n",
       "      <td>paper-title-number-9</td>\n",
       "      <td>10.1371/journal.pone.0129731</td>\n",
       "    </tr>\n",
       "  </tbody>\n",
       "</table>\n",
       "</div>"
      ],
      "text/plain": [
       "     pub_date                                              title  \\\n",
       "0  2022-01-01  Human intracranial recordings reveal distinct ...   \n",
       "1  2021-09-07  Learning nonnative speech sounds changes local...   \n",
       "2  2020-09-21  Using expletive insertion to pursue and sancti...   \n",
       "3  2020-08-06  Non-invasive peripheral nerve stimulation sele...   \n",
       "4  2019-05-20  Comparison of Common Artifact Rejection Method...   \n",
       "5  2017-04-17  Sensorimotor adaptation affects perceptual com...   \n",
       "6  2017-04-07  Mapping the Speech Code: Cortical Responses Li...   \n",
       "7  2016-06-01  What sound symbolism can and cannot do: testin...   \n",
       "8  2015-07-02  Do we perceive others better than ourselves? A...   \n",
       "\n",
       "                                               venue  \\\n",
       "0                                          In Review   \n",
       "1    Proceedings of the National Academy of Sciences   \n",
       "2                        Journal of Sociolinguistics   \n",
       "3                            npj Science of Learning   \n",
       "4  in 2019 9th International IEEE/EMBS Conference...   \n",
       "5       Journal of the Acoustical Society of America   \n",
       "6                    Frontiers in Human Neuroscience   \n",
       "7                                           Language   \n",
       "8                                           PLoS One   \n",
       "\n",
       "                                             excerpt  \\\n",
       "0  Tags: vagus nerve stimulation, neuromodulation...   \n",
       "1                         Tags: sound learning, ECoG   \n",
       "2          Tags: taboo speech, conversation analysis   \n",
       "3  Tags: sound learning, transcutaneous auricular...   \n",
       "4  Tags: cortical stimulation, peripheral stimula...   \n",
       "5  Tags: altered auditory feedback, compensation ...   \n",
       "6  Tags: altered auditory feedback, speech percep...   \n",
       "7  Tags: phonetics, sound symbolism, psycholingui...   \n",
       "8  Tags: speech perception, phonetics, psycholing...   \n",
       "\n",
       "                                            citation              url_slug  \\\n",
       "0  Schuerman, W. L., Nourski, K. V., Rhone, A. E....  paper-title-number-1   \n",
       "1  Han, G. Y., Chandrasekaran, B., Nourski, K.V.,...  paper-title-number-2   \n",
       "2  Hoey, E. M., Hömke, P., Löfgren, E., Neumann, ...  paper-title-number-3   \n",
       "3  Llanos, F., McHaney, J. R., Schuerman, W. L., ...  paper-title-number-4   \n",
       "4  Sellers, K.K., Schuerman, W.L., Dawes, H. E., ...  paper-title-number-5   \n",
       "5  Schuerman, W. L., Nagarajan, S., McQueen, J. M...  paper-title-number-6   \n",
       "6  Schuerman, W. L., Meyer, A., & McQueen, J. M. ...  paper-title-number-7   \n",
       "7  Dingemanse, M., Schuerman, W., Reinisch, E., T...  paper-title-number-8   \n",
       "8  Schuerman, W., Meyer, A. S., & McQueen, J. M. ...  paper-title-number-9   \n",
       "\n",
       "                      paper_url  \n",
       "0                           url  \n",
       "1                           url  \n",
       "2                           url  \n",
       "3    10.1038/s41539-020-0070-0.  \n",
       "4      10.1109/NER.2019.8716980  \n",
       "5                           url  \n",
       "6                           url  \n",
       "7                           url  \n",
       "8  10.1371/journal.pone.0129731  "
      ]
     },
     "metadata": {},
     "execution_count": 45
    }
   ],
   "metadata": {
    "collapsed": false,
    "deletable": true,
    "editable": true
   }
  },
  {
   "cell_type": "markdown",
   "source": [
    "## Escape special characters\n",
    "\n",
    "YAML is very picky about how it takes a valid string, so we are replacing single and double quotes (and ampersands) with their HTML encoded equivilents. This makes them look not so readable in raw format, but they are parsed and rendered nicely."
   ],
   "metadata": {}
  },
  {
   "cell_type": "code",
   "execution_count": 46,
   "source": [
    "html_escape_table = {\n",
    "    \"&\": \"&amp;\",\n",
    "    '\"': \"&quot;\",\n",
    "    \"'\": \"&apos;\"\n",
    "    }\n",
    "\n",
    "def html_escape(text):\n",
    "    \"\"\"Produce entities within text.\"\"\"\n",
    "    return \"\".join(html_escape_table.get(c,c) for c in text)"
   ],
   "outputs": [],
   "metadata": {
    "collapsed": true,
    "deletable": true,
    "editable": true
   }
  },
  {
   "cell_type": "markdown",
   "source": [
    "## Creating the markdown files\n",
    "\n",
    "This is where the heavy lifting is done. This loops through all the rows in the TSV dataframe, then starts to concatentate a big string (```md```) that contains the markdown for each type. It does the YAML metadata first, then does the description for the individual page."
   ],
   "metadata": {}
  },
  {
   "cell_type": "code",
   "execution_count": 47,
   "source": [
    "import os\n",
    "for row, item in publications.iterrows():\n",
    "    \n",
    "    md_filename = str(item.pub_date) + \"-\" + item.url_slug + \".md\"\n",
    "    html_filename = str(item.pub_date) + \"-\" + item.url_slug\n",
    "    year = item.pub_date[:4]\n",
    "    \n",
    "    ## YAML variables\n",
    "    \n",
    "    md = \"---\\ntitle: \\\"\"   + item.title + '\"\\n'\n",
    "    \n",
    "    md += \"\"\"collection: publications\"\"\"\n",
    "    \n",
    "    md += \"\"\"\\npermalink: /publication/\"\"\" + html_filename\n",
    "    \n",
    "    if len(str(item.excerpt)) > 5:\n",
    "        md += \"\\nexcerpt: '\" + html_escape(item.excerpt) + \"'\"\n",
    "    \n",
    "    md += \"\\ndate: \" + str(item.pub_date) \n",
    "    \n",
    "    md += \"\\nvenue: '\" + html_escape(item.venue) + \"'\"\n",
    "    \n",
    "    if len(str(item.paper_url)) > 5:\n",
    "        md += \"\\npaperurl: '\" + item.paper_url + \"'\"\n",
    "    \n",
    "    md += \"\\ncitation: '\" + html_escape(item.citation) + \"'\"\n",
    "    \n",
    "    md += \"\\n---\"\n",
    "    \n",
    "    ## Markdown description for individual page\n",
    "        \n",
    "    if len(str(item.excerpt)) > 5:\n",
    "        md += \"\\n\" + html_escape(item.excerpt) + \"\\n\"\n",
    "    \n",
    "    if len(str(item.paper_url)) > 5:\n",
    "        md += \"\\n[Download paper here](\" + item.paper_url + \")\\n\" \n",
    "        \n",
    "    md += \"\\nRecommended citation: \" + item.citation\n",
    "    \n",
    "    md_filename = os.path.basename(md_filename)\n",
    "       \n",
    "    with open(\"../_publications/\" + md_filename, 'w') as f:\n",
    "        f.write(md)"
   ],
   "outputs": [],
   "metadata": {
    "collapsed": false,
    "deletable": true,
    "editable": true
   }
  },
  {
   "cell_type": "markdown",
   "source": [
    "These files are in the publications directory, one directory below where we're working from."
   ],
   "metadata": {}
  },
  {
   "cell_type": "code",
   "execution_count": 48,
   "source": [
    "!ls ../_publications/"
   ],
   "outputs": [
    {
     "output_type": "stream",
     "name": "stdout",
     "text": [
      "2015-07-02-paper-title-number-9.md 2020-08-06-paper-title-number-4.md\n",
      "2016-06-01-paper-title-number-8.md 2020-09-21-paper-title-number-3.md\n",
      "2017-04-07-paper-title-number-7.md 2021-09-07-paper-title-number-2.md\n",
      "2017-04-17-paper-title-number-6.md 2022-01-01-paper-title-number-1.md\n",
      "2019-05-20-paper-title-number-5.md\n"
     ]
    }
   ],
   "metadata": {
    "collapsed": false,
    "deletable": true,
    "editable": true
   }
  },
  {
   "cell_type": "code",
   "execution_count": null,
   "source": [],
   "outputs": [],
   "metadata": {
    "collapsed": true,
    "deletable": true,
    "editable": true
   }
  }
 ],
 "metadata": {
  "kernelspec": {
   "name": "python3",
   "display_name": "Python 3.9.4 64-bit"
  },
  "language_info": {
   "name": "python",
   "version": "3.9.6",
   "mimetype": "text/x-python",
   "codemirror_mode": {
    "name": "ipython",
    "version": 3
   },
   "pygments_lexer": "ipython3",
   "nbconvert_exporter": "python",
   "file_extension": ".py"
  },
  "interpreter": {
   "hash": "aee8b7b246df8f9039afb4144a1f6fd8d2ca17a180786b69acc140d282b71a49"
  }
 },
 "nbformat": 4,
 "nbformat_minor": 2
}