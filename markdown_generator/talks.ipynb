{
 "cells": [
  {
   "cell_type": "markdown",
   "source": [
    "# Talks markdown generator for academicpages\n",
    "\n",
    "Takes a TSV of talks with metadata and converts them for use with [academicpages.github.io](academicpages.github.io). This is an interactive Jupyter notebook ([see more info here](http://jupyter-notebook-beginner-guide.readthedocs.io/en/latest/what_is_jupyter.html)). The core python code is also in `talks.py`. Run either from the `markdown_generator` folder after replacing `talks.tsv` with one containing your data.\n",
    "\n",
    "TODO: Make this work with BibTex and other databases, rather than Stuart's non-standard TSV format and citation style."
   ],
   "metadata": {
    "deletable": true,
    "editable": true
   }
  },
  {
   "cell_type": "code",
   "execution_count": 30,
   "source": [
    "import pandas as pd\n",
    "import os"
   ],
   "outputs": [],
   "metadata": {
    "collapsed": false,
    "deletable": true,
    "editable": true
   }
  },
  {
   "cell_type": "markdown",
   "source": [
    "## Data format\n",
    "\n",
    "The TSV needs to have the following columns: title, type, url_slug, venue, date, location, talk_url, description, with a header at the top. Many of these fields can be blank, but the columns must be in the TSV.\n",
    "\n",
    "- Fields that cannot be blank: `title`, `url_slug`, `date`. All else can be blank. `type` defaults to \"Talk\" \n",
    "- `date` must be formatted as YYYY-MM-DD.\n",
    "- `url_slug` will be the descriptive part of the .md file and the permalink URL for the page about the paper. \n",
    "    - The .md file will be `YYYY-MM-DD-[url_slug].md` and the permalink will be `https://[yourdomain]/talks/YYYY-MM-DD-[url_slug]`\n",
    "    - The combination of `url_slug` and `date` must be unique, as it will be the basis for your filenames\n",
    "\n",
    "This is how the raw file looks (it doesn't look pretty, use a spreadsheet or other program to edit and create)."
   ],
   "metadata": {}
  },
  {
   "cell_type": "code",
   "execution_count": 31,
   "source": [
    "!cat talks.tsv"
   ],
   "outputs": [
    {
     "output_type": "stream",
     "name": "stdout",
     "text": [
      "title\ttype\turl_slug\tvenue\tdate\tlocation\ttalk_url\tauthors\n",
      "Speaker statistical averageness modulates word recognition in adverse listening conditions.\tTalk\ticphs-2019\tICPhS 2019\t2019-08-08\tMelbourne, Australia\t\tSchuerman, W. L., McQueen, J. M., & Meyer, A.\n",
      "Sparking neural plasticity\tTalk\tpostdocslam-2018\tUCSF Postdoc Slam\t2018-11-19\tSan Francisco, California\thttps://www.youtube.com/watch?v=cQyWMwB2Wig&t=18s\n",
      "Transcutaneous vagus nerve stimulation enhances non-native speech categorization.\tPoster\tnbl-2018\tTenth Annual Meeting of the Society for the Neurobiology of Language\t2018-08-16\tQuebec City, Canada\t\tFernando Llanos, Jacie R. McHaney, Matthew K. Leonard, William L. Schuerman, Han G. Yi, Bharath Chandrasekaran\n",
      "Be like me or be like everyone: Effects of phonetic prototypicality on speech recognition.\tTalk\tmpi-2016\tMPI Proudly Presents\t2016-06-01\tNijmegen, the Netherlands\t\tW. L. Schuerman\n",
      "Praatalign: Phonetic alignment made easier for psycholinguistic data processing.\tPoster\tamlap-2015\tAMLaP XXI\t2015-08-03\tValleta, Malta\t\tSchuerman, W., Torreira, F., & Lubbers, M. \n",
      "Changes in consonant perception driven by adaptation of vowel production to altered auditory feedback.\tPoster\ticphs-2015\tICPhS 2015\t2015-08-10\tGlasgow, Scotland\t\tSchuerman, W., Nagarajan, S., & Houde, J. \n",
      "Speaker intelligibility may influence perception acuity.\tTalk\tbias-2014\tBias in Auditory Perception\t2014-09-19\tAarhus, Denmark\t\tSchuerman, W., Meyer, A., & McQueen, J. \n",
      "Listeners recognize others’ speech better than their own.\tPoster\tamlap-2014\tAMLaP XX\t2014-09-03\tEdinburgh, Scotland\t\tSchuerman, W., Meyer, A., & McQueen, J. \n",
      "Do listeners recognize others’ speech better than their own?\tTalk\tmpi-2014\tMPI Proudly Presents\t2014-06-12\tNijmegen, the Netherlands\t\tSchuerman, W., Meyer, A., & McQueen, J. \n",
      "Development of vowel spaces from age 21 to age 49 in a group of 8 talkers.\tTalk\tinterdisciplinary-2013\t5th International and Interdisciplinary Research Conference\t2013-10-06\tIndiana University, Bloomington\t\tLutzross, A., Schuerman, W., Sprouse, R., & Gahl, S. \n",
      "The limited power of sound symbolism.\tTalk\tamplap-2012\tAMLaP XVIII\t2012-09-06\tRiva del Garda, Italy\t\tMitterer, H., Schuerman, W., Reinisch, E., Tufvesson, S., & Dingemanse, M.\n",
      "Smile with a smile.\tTalk\tinterspeech-2012\tInterspeech 2012\t2012-09-09\tPortland, OR, USA\t\tQuené, H. & Schuerman, W. \n",
      "Motor resonance in the production of ’smile-words.’\tTalk\tyoung-2011\t4th annual conference of Young Linguists in Dialogue\t2011-05-14\tWrocław, Poland\t\tSchuerman, W. & Quené, H. \n"
     ]
    }
   ],
   "metadata": {
    "collapsed": false
   }
  },
  {
   "cell_type": "markdown",
   "source": [
    "## Import TSV\n",
    "\n",
    "Pandas makes this easy with the read_csv function. We are using a TSV, so we specify the separator as a tab, or `\\t`.\n",
    "\n",
    "I found it important to put this data in a tab-separated values format, because there are a lot of commas in this kind of data and comma-separated values can get messed up. However, you can modify the import statement, as pandas also has read_excel(), read_json(), and others."
   ],
   "metadata": {}
  },
  {
   "cell_type": "code",
   "execution_count": 32,
   "source": [
    "talks = pd.read_csv(\"talks.tsv\", sep=\"\\t\", header=0)\n",
    "talks"
   ],
   "outputs": [
    {
     "output_type": "execute_result",
     "data": {
      "text/html": [
       "<div>\n",
       "<style scoped>\n",
       "    .dataframe tbody tr th:only-of-type {\n",
       "        vertical-align: middle;\n",
       "    }\n",
       "\n",
       "    .dataframe tbody tr th {\n",
       "        vertical-align: top;\n",
       "    }\n",
       "\n",
       "    .dataframe thead th {\n",
       "        text-align: right;\n",
       "    }\n",
       "</style>\n",
       "<table border=\"1\" class=\"dataframe\">\n",
       "  <thead>\n",
       "    <tr style=\"text-align: right;\">\n",
       "      <th></th>\n",
       "      <th>title</th>\n",
       "      <th>type</th>\n",
       "      <th>url_slug</th>\n",
       "      <th>venue</th>\n",
       "      <th>date</th>\n",
       "      <th>location</th>\n",
       "      <th>talk_url</th>\n",
       "      <th>authors</th>\n",
       "    </tr>\n",
       "  </thead>\n",
       "  <tbody>\n",
       "    <tr>\n",
       "      <th>0</th>\n",
       "      <td>Speaker statistical averageness modulates word...</td>\n",
       "      <td>Talk</td>\n",
       "      <td>icphs-2019</td>\n",
       "      <td>ICPhS 2019</td>\n",
       "      <td>2019-08-08</td>\n",
       "      <td>Melbourne, Australia</td>\n",
       "      <td>NaN</td>\n",
       "      <td>Schuerman, W. L., McQueen, J. M., &amp; Meyer, A.</td>\n",
       "    </tr>\n",
       "    <tr>\n",
       "      <th>1</th>\n",
       "      <td>Sparking neural plasticity</td>\n",
       "      <td>Talk</td>\n",
       "      <td>postdocslam-2018</td>\n",
       "      <td>UCSF Postdoc Slam</td>\n",
       "      <td>2018-11-19</td>\n",
       "      <td>San Francisco, California</td>\n",
       "      <td>https://www.youtube.com/watch?v=cQyWMwB2Wig&amp;t=18s</td>\n",
       "      <td>NaN</td>\n",
       "    </tr>\n",
       "    <tr>\n",
       "      <th>2</th>\n",
       "      <td>Transcutaneous vagus nerve stimulation enhance...</td>\n",
       "      <td>Poster</td>\n",
       "      <td>nbl-2018</td>\n",
       "      <td>Tenth Annual Meeting of the Society for the Ne...</td>\n",
       "      <td>2018-08-16</td>\n",
       "      <td>Quebec City, Canada</td>\n",
       "      <td>NaN</td>\n",
       "      <td>Fernando Llanos, Jacie R. McHaney, Matthew K. ...</td>\n",
       "    </tr>\n",
       "    <tr>\n",
       "      <th>3</th>\n",
       "      <td>Be like me or be like everyone: Effects of pho...</td>\n",
       "      <td>Talk</td>\n",
       "      <td>mpi-2016</td>\n",
       "      <td>MPI Proudly Presents</td>\n",
       "      <td>2016-06-01</td>\n",
       "      <td>Nijmegen, the Netherlands</td>\n",
       "      <td>NaN</td>\n",
       "      <td>W. L. Schuerman</td>\n",
       "    </tr>\n",
       "    <tr>\n",
       "      <th>4</th>\n",
       "      <td>Praatalign: Phonetic alignment made easier for...</td>\n",
       "      <td>Poster</td>\n",
       "      <td>amlap-2015</td>\n",
       "      <td>AMLaP XXI</td>\n",
       "      <td>2015-08-03</td>\n",
       "      <td>Valleta, Malta</td>\n",
       "      <td>NaN</td>\n",
       "      <td>Schuerman, W., Torreira, F., &amp; Lubbers, M.</td>\n",
       "    </tr>\n",
       "    <tr>\n",
       "      <th>5</th>\n",
       "      <td>Changes in consonant perception driven by adap...</td>\n",
       "      <td>Poster</td>\n",
       "      <td>icphs-2015</td>\n",
       "      <td>ICPhS 2015</td>\n",
       "      <td>2015-08-10</td>\n",
       "      <td>Glasgow, Scotland</td>\n",
       "      <td>NaN</td>\n",
       "      <td>Schuerman, W., Nagarajan, S., &amp; Houde, J.</td>\n",
       "    </tr>\n",
       "    <tr>\n",
       "      <th>6</th>\n",
       "      <td>Speaker intelligibility may influence percepti...</td>\n",
       "      <td>Talk</td>\n",
       "      <td>bias-2014</td>\n",
       "      <td>Bias in Auditory Perception</td>\n",
       "      <td>2014-09-19</td>\n",
       "      <td>Aarhus, Denmark</td>\n",
       "      <td>NaN</td>\n",
       "      <td>Schuerman, W., Meyer, A., &amp; McQueen, J.</td>\n",
       "    </tr>\n",
       "    <tr>\n",
       "      <th>7</th>\n",
       "      <td>Listeners recognize others’ speech better than...</td>\n",
       "      <td>Poster</td>\n",
       "      <td>amlap-2014</td>\n",
       "      <td>AMLaP XX</td>\n",
       "      <td>2014-09-03</td>\n",
       "      <td>Edinburgh, Scotland</td>\n",
       "      <td>NaN</td>\n",
       "      <td>Schuerman, W., Meyer, A., &amp; McQueen, J.</td>\n",
       "    </tr>\n",
       "    <tr>\n",
       "      <th>8</th>\n",
       "      <td>Do listeners recognize others’ speech better t...</td>\n",
       "      <td>Talk</td>\n",
       "      <td>mpi-2014</td>\n",
       "      <td>MPI Proudly Presents</td>\n",
       "      <td>2014-06-12</td>\n",
       "      <td>Nijmegen, the Netherlands</td>\n",
       "      <td>NaN</td>\n",
       "      <td>Schuerman, W., Meyer, A., &amp; McQueen, J.</td>\n",
       "    </tr>\n",
       "    <tr>\n",
       "      <th>9</th>\n",
       "      <td>Development of vowel spaces from age 21 to age...</td>\n",
       "      <td>Talk</td>\n",
       "      <td>interdisciplinary-2013</td>\n",
       "      <td>5th International and Interdisciplinary Resear...</td>\n",
       "      <td>2013-10-06</td>\n",
       "      <td>Indiana University, Bloomington</td>\n",
       "      <td>NaN</td>\n",
       "      <td>Lutzross, A., Schuerman, W., Sprouse, R., &amp; Ga...</td>\n",
       "    </tr>\n",
       "    <tr>\n",
       "      <th>10</th>\n",
       "      <td>The limited power of sound symbolism.</td>\n",
       "      <td>Talk</td>\n",
       "      <td>amplap-2012</td>\n",
       "      <td>AMLaP XVIII</td>\n",
       "      <td>2012-09-06</td>\n",
       "      <td>Riva del Garda, Italy</td>\n",
       "      <td>NaN</td>\n",
       "      <td>Mitterer, H., Schuerman, W., Reinisch, E., Tuf...</td>\n",
       "    </tr>\n",
       "    <tr>\n",
       "      <th>11</th>\n",
       "      <td>Smile with a smile.</td>\n",
       "      <td>Talk</td>\n",
       "      <td>interspeech-2012</td>\n",
       "      <td>Interspeech 2012</td>\n",
       "      <td>2012-09-09</td>\n",
       "      <td>Portland, OR, USA</td>\n",
       "      <td>NaN</td>\n",
       "      <td>Quené, H. &amp; Schuerman, W.</td>\n",
       "    </tr>\n",
       "    <tr>\n",
       "      <th>12</th>\n",
       "      <td>Motor resonance in the production of ’smile-wo...</td>\n",
       "      <td>Talk</td>\n",
       "      <td>young-2011</td>\n",
       "      <td>4th annual conference of Young Linguists in Di...</td>\n",
       "      <td>2011-05-14</td>\n",
       "      <td>Wrocław, Poland</td>\n",
       "      <td>NaN</td>\n",
       "      <td>Schuerman, W. &amp; Quené, H.</td>\n",
       "    </tr>\n",
       "  </tbody>\n",
       "</table>\n",
       "</div>"
      ],
      "text/plain": [
       "                                                title    type  \\\n",
       "0   Speaker statistical averageness modulates word...    Talk   \n",
       "1                          Sparking neural plasticity    Talk   \n",
       "2   Transcutaneous vagus nerve stimulation enhance...  Poster   \n",
       "3   Be like me or be like everyone: Effects of pho...    Talk   \n",
       "4   Praatalign: Phonetic alignment made easier for...  Poster   \n",
       "5   Changes in consonant perception driven by adap...  Poster   \n",
       "6   Speaker intelligibility may influence percepti...    Talk   \n",
       "7   Listeners recognize others’ speech better than...  Poster   \n",
       "8   Do listeners recognize others’ speech better t...    Talk   \n",
       "9   Development of vowel spaces from age 21 to age...    Talk   \n",
       "10              The limited power of sound symbolism.    Talk   \n",
       "11                                Smile with a smile.    Talk   \n",
       "12  Motor resonance in the production of ’smile-wo...    Talk   \n",
       "\n",
       "                  url_slug                                              venue  \\\n",
       "0               icphs-2019                                         ICPhS 2019   \n",
       "1         postdocslam-2018                                  UCSF Postdoc Slam   \n",
       "2                 nbl-2018  Tenth Annual Meeting of the Society for the Ne...   \n",
       "3                 mpi-2016                               MPI Proudly Presents   \n",
       "4               amlap-2015                                          AMLaP XXI   \n",
       "5               icphs-2015                                         ICPhS 2015   \n",
       "6                bias-2014                        Bias in Auditory Perception   \n",
       "7               amlap-2014                                           AMLaP XX   \n",
       "8                 mpi-2014                               MPI Proudly Presents   \n",
       "9   interdisciplinary-2013  5th International and Interdisciplinary Resear...   \n",
       "10             amplap-2012                                        AMLaP XVIII   \n",
       "11        interspeech-2012                                   Interspeech 2012   \n",
       "12              young-2011  4th annual conference of Young Linguists in Di...   \n",
       "\n",
       "          date                         location  \\\n",
       "0   2019-08-08             Melbourne, Australia   \n",
       "1   2018-11-19        San Francisco, California   \n",
       "2   2018-08-16              Quebec City, Canada   \n",
       "3   2016-06-01        Nijmegen, the Netherlands   \n",
       "4   2015-08-03                   Valleta, Malta   \n",
       "5   2015-08-10                Glasgow, Scotland   \n",
       "6   2014-09-19                  Aarhus, Denmark   \n",
       "7   2014-09-03              Edinburgh, Scotland   \n",
       "8   2014-06-12        Nijmegen, the Netherlands   \n",
       "9   2013-10-06  Indiana University, Bloomington   \n",
       "10  2012-09-06            Riva del Garda, Italy   \n",
       "11  2012-09-09                Portland, OR, USA   \n",
       "12  2011-05-14                  Wrocław, Poland   \n",
       "\n",
       "                                             talk_url  \\\n",
       "0                                                 NaN   \n",
       "1   https://www.youtube.com/watch?v=cQyWMwB2Wig&t=18s   \n",
       "2                                                 NaN   \n",
       "3                                                 NaN   \n",
       "4                                                 NaN   \n",
       "5                                                 NaN   \n",
       "6                                                 NaN   \n",
       "7                                                 NaN   \n",
       "8                                                 NaN   \n",
       "9                                                 NaN   \n",
       "10                                                NaN   \n",
       "11                                                NaN   \n",
       "12                                                NaN   \n",
       "\n",
       "                                              authors  \n",
       "0       Schuerman, W. L., McQueen, J. M., & Meyer, A.  \n",
       "1                                                 NaN  \n",
       "2   Fernando Llanos, Jacie R. McHaney, Matthew K. ...  \n",
       "3                                     W. L. Schuerman  \n",
       "4         Schuerman, W., Torreira, F., & Lubbers, M.   \n",
       "5          Schuerman, W., Nagarajan, S., & Houde, J.   \n",
       "6            Schuerman, W., Meyer, A., & McQueen, J.   \n",
       "7            Schuerman, W., Meyer, A., & McQueen, J.   \n",
       "8            Schuerman, W., Meyer, A., & McQueen, J.   \n",
       "9   Lutzross, A., Schuerman, W., Sprouse, R., & Ga...  \n",
       "10  Mitterer, H., Schuerman, W., Reinisch, E., Tuf...  \n",
       "11                         Quené, H. & Schuerman, W.   \n",
       "12                         Schuerman, W. & Quené, H.   "
      ]
     },
     "metadata": {},
     "execution_count": 32
    }
   ],
   "metadata": {
    "collapsed": false,
    "deletable": true,
    "editable": true
   }
  },
  {
   "cell_type": "markdown",
   "source": [
    "## Escape special characters\n",
    "\n",
    "YAML is very picky about how it takes a valid string, so we are replacing single and double quotes (and ampersands) with their HTML encoded equivilents. This makes them look not so readable in raw format, but they are parsed and rendered nicely."
   ],
   "metadata": {}
  },
  {
   "cell_type": "code",
   "execution_count": 33,
   "source": [
    "html_escape_table = {\n",
    "    \"&\": \"&amp;\",\n",
    "    '\"': \"&quot;\",\n",
    "    \"'\": \"&apos;\"\n",
    "    }\n",
    "\n",
    "def html_escape(text):\n",
    "    if type(text) is str:\n",
    "        return \"\".join(html_escape_table.get(c,c) for c in text)\n",
    "    else:\n",
    "        return \"False\""
   ],
   "outputs": [],
   "metadata": {
    "collapsed": false,
    "deletable": true,
    "editable": true
   }
  },
  {
   "cell_type": "markdown",
   "source": [
    "## Creating the markdown files\n",
    "\n",
    "This is where the heavy lifting is done. This loops through all the rows in the TSV dataframe, then starts to concatentate a big string (```md```) that contains the markdown for each type. It does the YAML metadata first, then does the description for the individual page."
   ],
   "metadata": {}
  },
  {
   "cell_type": "code",
   "execution_count": 34,
   "source": [
    "loc_dict = {}\n",
    "\n",
    "for row, item in talks.iterrows():\n",
    "    \n",
    "    md_filename = str(item.date) + \"-\" + item.url_slug + \".md\"\n",
    "    html_filename = str(item.date) + \"-\" + item.url_slug \n",
    "    year = item.date[:4]\n",
    "    \n",
    "    md = \"---\\ntitle: \\\"\"   + item.title + '\"\\n'\n",
    "    md += \"collection: talks\" + \"\\n\"\n",
    "    \n",
    "    if len(str(item.type)) > 3:\n",
    "        md += 'type: \"' + item.type + '\"\\n'\n",
    "    else:\n",
    "        md += 'type: \"Talk\"\\n'\n",
    "    \n",
    "    md += \"permalink: /talks/\" + html_filename + \"\\n\"\n",
    "    \n",
    "    if len(str(item.venue)) > 3:\n",
    "        md += 'venue: \"' + item.venue + '\"\\n'\n",
    "        \n",
    "    if len(str(item.location)) > 3:\n",
    "        md += \"date: \" + str(item.date) + \"\\n\"\n",
    "    \n",
    "    if len(str(item.location)) > 3:\n",
    "        md += 'location: \"' + str(item.location) + '\"\\n'\n",
    "           \n",
    "    md += \"---\\n\"\n",
    "    \n",
    "    \n",
    "    if len(str(item.talk_url)) > 3:\n",
    "        md += \"\\n[More information here](\" + item.talk_url + \")\\n\" \n",
    "        \n",
    "    \n",
    "    if len(str(item.authors)) > 3:\n",
    "        md += \"\\n\" + html_escape(item.authors) + \"\\n\"\n",
    "        \n",
    "        \n",
    "    md_filename = os.path.basename(md_filename)\n",
    "    #print(md)\n",
    "    \n",
    "    with open(\"../_talks/\" + md_filename, 'w') as f:\n",
    "        f.write(md)"
   ],
   "outputs": [],
   "metadata": {
    "collapsed": false,
    "deletable": true,
    "editable": true
   }
  },
  {
   "cell_type": "markdown",
   "source": [
    "These files are in the talks directory, one directory below where we're working from."
   ],
   "metadata": {}
  },
  {
   "cell_type": "code",
   "execution_count": 35,
   "source": [
    "!ls ../_talks"
   ],
   "outputs": [
    {
     "output_type": "stream",
     "name": "stdout",
     "text": [
      "2011-05-14-young-2011.md             2015-08-03-amlap-2015.md\n",
      "2012-09-06-amplap-2012.md            2015-08-10-icphs-2015.md\n",
      "2012-09-09-interspeech-2012.md       2016-06-01-mpi-2016.md\n",
      "2013-10-06-interdisciplinary-2013.md 2018-08-16-nbl-2018.md\n",
      "2014-06-12-mpi-2014.md               2018-11-19-postdocslam-2018.md\n",
      "2014-09-03-amlap-2014.md             2019-08-08-icphs-2019.md\n",
      "2014-09-19-bias-2014.md\n"
     ]
    }
   ],
   "metadata": {
    "collapsed": false,
    "deletable": true,
    "editable": true
   }
  },
  {
   "cell_type": "code",
   "execution_count": 18,
   "source": [
    "!cat ../_talks/2013-03-01-tutorial-1.md"
   ],
   "outputs": [
    {
     "output_type": "stream",
     "name": "stdout",
     "text": [
      "cat: ../_talks/2013-03-01-tutorial-1.md: No such file or directory\n"
     ]
    }
   ],
   "metadata": {
    "collapsed": false,
    "deletable": true,
    "editable": true
   }
  },
  {
   "cell_type": "code",
   "execution_count": null,
   "source": [],
   "outputs": [],
   "metadata": {}
  }
 ],
 "metadata": {
  "kernelspec": {
   "name": "python3",
   "display_name": "Python 3.9.4 64-bit"
  },
  "language_info": {
   "name": "python",
   "version": "3.9.6",
   "mimetype": "text/x-python",
   "codemirror_mode": {
    "name": "ipython",
    "version": 3
   },
   "pygments_lexer": "ipython3",
   "nbconvert_exporter": "python",
   "file_extension": ".py"
  },
  "interpreter": {
   "hash": "aee8b7b246df8f9039afb4144a1f6fd8d2ca17a180786b69acc140d282b71a49"
  }
 },
 "nbformat": 4,
 "nbformat_minor": 2
}